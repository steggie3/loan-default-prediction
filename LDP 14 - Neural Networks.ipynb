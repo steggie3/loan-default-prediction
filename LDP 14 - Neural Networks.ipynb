{
 "cells": [
  {
   "cell_type": "markdown",
   "metadata": {},
   "source": [
    "# Loan Default Prediction - Part 14 - Neural Networks\n",
    "\n",
    "This is an exploratory project for me to apply what I have learned in the Data Science and Machine Learning courses that I took this year. The data is from a Kaggle competition [Loan Default Prediction](https://www.kaggle.com/c/loan-default-prediction). \n",
    "\n",
    "This is Part 14 of the project: Neural Networks.\n",
    "\n",
    "In this part, I will use the most simple neural network, a single perceptron, to establish the experiment flow, and experiment on the various optimizers.\n",
    "\n",
    "I will first load the data."
   ]
  },
  {
   "cell_type": "code",
   "execution_count": 1,
   "metadata": {},
   "outputs": [
    {
     "name": "stderr",
     "output_type": "stream",
     "text": [
      "C:\\ProgramData\\Anaconda3\\lib\\site-packages\\h5py\\__init__.py:36: FutureWarning: Conversion of the second argument of issubdtype from `float` to `np.floating` is deprecated. In future, it will be treated as `np.float64 == np.dtype(float).type`.\n",
      "  from ._conv import register_converters as _register_converters\n",
      "Using TensorFlow backend.\n"
     ]
    }
   ],
   "source": [
    "# Import libraries\n",
    "\n",
    "import numpy as np\n",
    "import pandas as pd\n",
    "import time\n",
    "import project_utils as utils\n",
    "import project_keras_utils as keras_utils"
   ]
  },
  {
   "cell_type": "code",
   "execution_count": 2,
   "metadata": {},
   "outputs": [
    {
     "name": "stdout",
     "output_type": "stream",
     "text": [
      "<class 'pandas.core.frame.DataFrame'>\n",
      "RangeIndex: 105471 entries, 0 to 105470\n",
      "Columns: 1789 entries, f1_0 to loss\n",
      "dtypes: float64(1789)\n",
      "memory usage: 1.4 GB\n"
     ]
    }
   ],
   "source": [
    "# Load the training data (imputed but not normalized) from the CSV file\n",
    "df, X, y = utils.load_csv('train_v2_preprocessed.csv')\n",
    "\n",
    "# Separate training and validation sets\n",
    "from sklearn.model_selection import KFold\n",
    "kf = KFold(n_splits=5)\n",
    "X_train, y_train, X_valid, y_valid = utils.split_data(kf, X, y)"
   ]
  },
  {
   "cell_type": "markdown",
   "metadata": {},
   "source": [
    "## Single-Layer Perceptron\n",
    "\n",
    "I use the [Keras](https://keras.io/) library to build the neural networks. I will first build the simplest neural network: a single perceptron."
   ]
  },
  {
   "cell_type": "code",
   "execution_count": 3,
   "metadata": {},
   "outputs": [],
   "source": [
    "import tensorflow as tf\n",
    "import keras\n",
    "from keras.models import Model, Sequential\n",
    "from keras.layers import Input, Dense, Activation"
   ]
  },
  {
   "cell_type": "code",
   "execution_count": 4,
   "metadata": {},
   "outputs": [],
   "source": [
    "# Define parameters\n",
    "\n",
    "n_features = X.shape[1]\n",
    "n_epochs = 10\n",
    "batch_size = 256\n",
    "class_weight = {0: 1., 1: 10.}"
   ]
  },
  {
   "cell_type": "code",
   "execution_count": 5,
   "metadata": {},
   "outputs": [],
   "source": [
    "# Build Keras model\n",
    "\n",
    "inputs = Input(shape=(n_features,), name='input')\n",
    "class_output = Dense(1, activation='sigmoid', name='class_output')(inputs)\n",
    "clf = Model(inputs=inputs, outputs=class_output)\n",
    "\n",
    "clf.compile(loss='binary_crossentropy',\n",
    "            #optimizer=keras.optimizers.Adam(lr=0.005, beta_1=0.9, beta_2=0.999, epsilon=None, decay=0, amsgrad=False),\n",
    "            optimizer=keras.optimizers.SGD(lr=0.001),\n",
    "            metrics=['binary_accuracy'])"
   ]
  },
  {
   "cell_type": "code",
   "execution_count": 6,
   "metadata": {},
   "outputs": [],
   "source": [
    "# Plot the model\n",
    "\n",
    "from keras.utils import plot_model\n",
    "plot_model(clf, to_file='model.png')"
   ]
  },
  {
   "cell_type": "code",
   "execution_count": 7,
   "metadata": {},
   "outputs": [
    {
     "data": {
      "image/png": "[encoded data removed]",
      "text/plain": [
       "<IPython.core.display.Image object>"
      ]
     },
     "execution_count": 7,
     "metadata": {},
     "output_type": "execute_result"
    }
   ],
   "source": [
    "from IPython.display import Image\n",
    "Image(\"model.png\")"
   ]
  },
  {
   "cell_type": "code",
   "execution_count": 8,
   "metadata": {},
   "outputs": [
    {
     "name": "stdout",
     "output_type": "stream",
     "text": [
      "Epoch 1/10\n",
      "84376/84376 [==============================] - 9s 107us/step - loss: 14.3124 - binary_accuracy: 0.1022\n",
      "Epoch 2/10\n",
      "84376/84376 [==============================] - 9s 106us/step - loss: 14.3124 - binary_accuracy: 0.1022\n",
      "Epoch 3/10\n",
      "84376/84376 [==============================] - 9s 106us/step - loss: 14.3124 - binary_accuracy: 0.1022\n",
      "Epoch 4/10\n",
      "84376/84376 [==============================] - 9s 108us/step - loss: 14.3124 - binary_accuracy: 0.1022\n",
      "Epoch 5/10\n",
      "84376/84376 [==============================] - 9s 106us/step - loss: 14.3124 - binary_accuracy: 0.1022\n",
      "Epoch 6/10\n",
      "84376/84376 [==============================] - 9s 104us/step - loss: 14.3124 - binary_accuracy: 0.1022\n",
      "Epoch 7/10\n",
      "84376/84376 [==============================] - 9s 104us/step - loss: 14.3124 - binary_accuracy: 0.1022\n",
      "Epoch 8/10\n",
      "84376/84376 [==============================] - 9s 104us/step - loss: 14.3124 - binary_accuracy: 0.1022\n",
      "Epoch 9/10\n",
      "84376/84376 [==============================] - 9s 107us/step - loss: 14.3124 - binary_accuracy: 0.1022\n",
      "Epoch 10/10\n",
      "84376/84376 [==============================] - 9s 108us/step - loss: 14.3124 - binary_accuracy: 0.1022\n",
      "Time elapsed (Training): 89.4861 s\n",
      "Accuracy (Training): 0.102245\n",
      "ROCAUC Score (Training): 0.502398\n",
      "PRAUC Score (Training): 0.451025\n",
      "Accuracy (Validation): 0.097606\n",
      "ROCAUC Score (Validation): 0.502987\n",
      "PRAUC Score (Validation): 0.453950\n",
      "Time elapsed (Evaluation): 3.6654 s\n"
     ]
    },
    {
     "data": {
      "image/png": "[encoded data removed]",
      "text/plain": [
       "<Figure size 864x288 with 2 Axes>"
      ]
     },
     "metadata": {},
     "output_type": "display_data"
    }
   ],
   "source": [
    "# Train and evaluate the model\n",
    "\n",
    "fit_time = keras_utils.train_model(clf, X_train, y_train, n_epochs, batch_size, None)\n",
    "acc_score, rocauc_score, prauc_score, eval_time = keras_utils.evaluate(clf, X_train, y_train, X_valid, y_valid)"
   ]
  },
  {
   "cell_type": "code",
   "execution_count": 9,
   "metadata": {},
   "outputs": [
    {
     "name": "stdout",
     "output_type": "stream",
     "text": [
      "Epoch 1/10\n",
      "84376/84376 [==============================] - 9s 107us/step - loss: 14.3795 - binary_accuracy: 0.1022\n",
      "Epoch 2/10\n",
      "84376/84376 [==============================] - 9s 107us/step - loss: 14.3795 - binary_accuracy: 0.1022\n",
      "Epoch 3/10\n",
      "84376/84376 [==============================] - 9s 106us/step - loss: 14.3795 - binary_accuracy: 0.1022\n",
      "Epoch 4/10\n",
      "84376/84376 [==============================] - 9s 106us/step - loss: 14.3795 - binary_accuracy: 0.1022\n",
      "Epoch 5/10\n",
      "84376/84376 [==============================] - 9s 107us/step - loss: 14.3795 - binary_accuracy: 0.1022\n",
      "Epoch 6/10\n",
      "84376/84376 [==============================] - 9s 105us/step - loss: 14.3795 - binary_accuracy: 0.1022\n",
      "Epoch 7/10\n",
      "84376/84376 [==============================] - 9s 104us/step - loss: 14.3795 - binary_accuracy: 0.1022\n",
      "Epoch 8/10\n",
      "84376/84376 [==============================] - 9s 105us/step - loss: 14.3795 - binary_accuracy: 0.1022\n",
      "Epoch 9/10\n",
      "84376/84376 [==============================] - 9s 103us/step - loss: 14.3795 - binary_accuracy: 0.1022\n",
      "Epoch 10/10\n",
      "84376/84376 [==============================] - 9s 104us/step - loss: 14.3795 - binary_accuracy: 0.1022\n",
      "Time elapsed (Training): 89.1394 s\n",
      "Accuracy (Training): 0.102245\n",
      "ROCAUC Score (Training): 0.502398\n",
      "PRAUC Score (Training): 0.451025\n",
      "Accuracy (Validation): 0.097606\n",
      "ROCAUC Score (Validation): 0.502987\n",
      "PRAUC Score (Validation): 0.453950\n",
      "Time elapsed (Evaluation): 3.6199 s\n"
     ]
    },
    {
     "data": {
      "image/png": "[encoded data removed]",
      "text/plain": [
       "<Figure size 864x288 with 2 Axes>"
      ]
     },
     "metadata": {},
     "output_type": "display_data"
    }
   ],
   "source": [
    "# Train and evaluate the model with class weights\n",
    "\n",
    "fit_time = keras_utils.train_model(clf, X_train, y_train, n_epochs, batch_size, class_weight)\n",
    "acc_score, rocauc_score, prauc_score, eval_time = keras_utils.evaluate(clf, X_train, y_train, X_valid, y_valid)"
   ]
  },
  {
   "cell_type": "markdown",
   "metadata": {},
   "source": [
    "The results are not good at all, whether adding the class weights or not. It looks like the optimization converged very quickly at a local optimal."
   ]
  },
  {
   "cell_type": "markdown",
   "metadata": {},
   "source": [
    "## Normalized Data\n",
    "\n",
    "Next, I'll try using the normalized data and repeat the experiments."
   ]
  },
  {
   "cell_type": "code",
   "execution_count": 10,
   "metadata": {},
   "outputs": [
    {
     "name": "stdout",
     "output_type": "stream",
     "text": [
      "<class 'pandas.core.frame.DataFrame'>\n",
      "RangeIndex: 105471 entries, 0 to 105470\n",
      "Columns: 1789 entries, f3 to loss\n",
      "dtypes: float64(1789)\n",
      "memory usage: 1.4 GB\n",
      "Epoch 1/30\n",
      "84376/84376 [==============================] - 9s 103us/step - loss: 0.6085 - binary_accuracy: 0.6984\n",
      "Epoch 2/30\n",
      "84376/84376 [==============================] - 9s 103us/step - loss: 0.4359 - binary_accuracy: 0.8825\n",
      "Epoch 3/30\n",
      "84376/84376 [==============================] - 9s 103us/step - loss: 0.3711 - binary_accuracy: 0.9024\n",
      "Epoch 4/30\n",
      "84376/84376 [==============================] - 9s 103us/step - loss: 0.3408 - binary_accuracy: 0.9048\n",
      "Epoch 5/30\n",
      "84376/84376 [==============================] - 9s 103us/step - loss: 0.3249 - binary_accuracy: 0.9056\n",
      "Epoch 6/30\n",
      "84376/84376 [==============================] - 9s 103us/step - loss: 0.3156 - binary_accuracy: 0.9059\n",
      "Epoch 7/30\n",
      "84376/84376 [==============================] - 9s 103us/step - loss: 0.3099 - binary_accuracy: 0.9060\n",
      "Epoch 8/30\n",
      "84376/84376 [==============================] - 9s 104us/step - loss: 0.3061 - binary_accuracy: 0.9060\n",
      "Epoch 9/30\n",
      "84376/84376 [==============================] - 9s 104us/step - loss: 0.3035 - binary_accuracy: 0.9061\n",
      "Epoch 10/30\n",
      "84376/84376 [==============================] - 9s 103us/step - loss: 0.3016 - binary_accuracy: 0.9062\n",
      "Epoch 11/30\n",
      "84376/84376 [==============================] - 9s 103us/step - loss: 0.3002 - binary_accuracy: 0.9062\n",
      "Epoch 12/30\n",
      "84376/84376 [==============================] - 9s 104us/step - loss: 0.2991 - binary_accuracy: 0.9062\n",
      "Epoch 13/30\n",
      "84376/84376 [==============================] - 9s 103us/step - loss: 0.2982 - binary_accuracy: 0.9063\n",
      "Epoch 14/30\n",
      "84376/84376 [==============================] - 9s 103us/step - loss: 0.2975 - binary_accuracy: 0.9063\n",
      "Epoch 15/30\n",
      "84376/84376 [==============================] - 9s 103us/step - loss: 0.2970 - binary_accuracy: 0.9063\n",
      "Epoch 16/30\n",
      "84376/84376 [==============================] - 9s 103us/step - loss: 0.2965 - binary_accuracy: 0.9063\n",
      "Epoch 17/30\n",
      "84376/84376 [==============================] - 9s 103us/step - loss: 0.2960 - binary_accuracy: 0.9063\n",
      "Epoch 18/30\n",
      "84376/84376 [==============================] - 9s 103us/step - loss: 0.2956 - binary_accuracy: 0.9063\n",
      "Epoch 19/30\n",
      "84376/84376 [==============================] - 9s 103us/step - loss: 0.2953 - binary_accuracy: 0.9063\n",
      "Epoch 20/30\n",
      "84376/84376 [==============================] - 9s 104us/step - loss: 0.2950 - binary_accuracy: 0.9063\n",
      "Epoch 21/30\n",
      "84376/84376 [==============================] - 9s 104us/step - loss: 0.2947 - binary_accuracy: 0.9063\n",
      "Epoch 22/30\n",
      "84376/84376 [==============================] - 9s 104us/step - loss: 0.2944 - binary_accuracy: 0.9063\n",
      "Epoch 23/30\n",
      "84376/84376 [==============================] - 9s 103us/step - loss: 0.2942 - binary_accuracy: 0.9063\n",
      "Epoch 24/30\n",
      "84376/84376 [==============================] - 9s 104us/step - loss: 0.2939 - binary_accuracy: 0.9063\n",
      "Epoch 25/30\n",
      "84376/84376 [==============================] - 9s 103us/step - loss: 0.2937 - binary_accuracy: 0.9063\n",
      "Epoch 26/30\n",
      "84376/84376 [==============================] - 9s 104us/step - loss: 0.2935 - binary_accuracy: 0.9063\n",
      "Epoch 27/30\n",
      "84376/84376 [==============================] - 9s 103us/step - loss: 0.2933 - binary_accuracy: 0.9063\n",
      "Epoch 28/30\n",
      "84376/84376 [==============================] - 9s 103us/step - loss: 0.2931 - binary_accuracy: 0.9063\n",
      "Epoch 29/30\n",
      "84376/84376 [==============================] - 9s 103us/step - loss: 0.2930 - binary_accuracy: 0.9064\n",
      "Epoch 30/30\n",
      "84376/84376 [==============================] - 9s 104us/step - loss: 0.2928 - binary_accuracy: 0.9063\n",
      "Time elapsed (Training): 261.6070 s\n",
      "Accuracy (Training): 0.906360\n",
      "ROCAUC Score (Training): 0.686053\n",
      "PRAUC Score (Training): 0.084088\n",
      "Accuracy (Validation): 0.912112\n",
      "ROCAUC Score (Validation): 0.670977\n",
      "PRAUC Score (Validation): 0.067754\n",
      "Time elapsed (Evaluation): 4.0697 s\n"
     ]
    },
    {
     "data": {
      "image/png": "[encoded data removed]",
      "text/plain": [
       "<Figure size 864x288 with 2 Axes>"
      ]
     },
     "metadata": {},
     "output_type": "display_data"
    }
   ],
   "source": [
    "# Load the training data (imputed and normalized) from the CSV file\n",
    "df, X, y = utils.load_csv('train_v2_preprocessed_normalized.csv')\n",
    "\n",
    "# Separate training and validation sets\n",
    "X_train, y_train, X_valid, y_valid = utils.split_data(kf, X, y)\n",
    "\n",
    "# Train the model and evaluate\n",
    "n_epochs = 30\n",
    "fit_time = keras_utils.train_model(clf, X_train, y_train, n_epochs, batch_size, None)\n",
    "acc_score, rocauc_score, prauc_score, eval_time = keras_utils.evaluate(clf, X_train, y_train, X_valid, y_valid)"
   ]
  },
  {
   "cell_type": "code",
   "execution_count": 11,
   "metadata": {},
   "outputs": [
    {
     "name": "stdout",
     "output_type": "stream",
     "text": [
      "Epoch 1/30\n",
      "84376/84376 [==============================] - 9s 104us/step - loss: 1.6232 - binary_accuracy: 0.8445\n",
      "Epoch 2/30\n",
      "84376/84376 [==============================] - 9s 103us/step - loss: 1.2922 - binary_accuracy: 0.7752\n",
      "Epoch 3/30\n",
      "84376/84376 [==============================] - 9s 106us/step - loss: 1.1952 - binary_accuracy: 0.7066\n",
      "Epoch 4/30\n",
      "84376/84376 [==============================] - 9s 106us/step - loss: 1.1679 - binary_accuracy: 0.6587\n",
      "Epoch 5/30\n",
      "84376/84376 [==============================] - 9s 104us/step - loss: 1.1593 - binary_accuracy: 0.6334\n",
      "Epoch 6/30\n",
      "84376/84376 [==============================] - 9s 104us/step - loss: 1.1554 - binary_accuracy: 0.6183\n",
      "Epoch 7/30\n",
      "84376/84376 [==============================] - 9s 105us/step - loss: 1.1530 - binary_accuracy: 0.6140\n",
      "Epoch 8/30\n",
      "84376/84376 [==============================] - 9s 104us/step - loss: 1.1509 - binary_accuracy: 0.6114\n",
      "Epoch 9/30\n",
      "84376/84376 [==============================] - 9s 104us/step - loss: 1.1490 - binary_accuracy: 0.6112\n",
      "Epoch 10/30\n",
      "84376/84376 [==============================] - 9s 105us/step - loss: 1.1475 - binary_accuracy: 0.6113\n",
      "Epoch 11/30\n",
      "84376/84376 [==============================] - 9s 105us/step - loss: 1.1461 - binary_accuracy: 0.6125\n",
      "Epoch 12/30\n",
      "84376/84376 [==============================] - 9s 104us/step - loss: 1.1445 - binary_accuracy: 0.6133\n",
      "Epoch 13/30\n",
      "84376/84376 [==============================] - 9s 105us/step - loss: 1.1435 - binary_accuracy: 0.6155\n",
      "Epoch 14/30\n",
      "84376/84376 [==============================] - 9s 105us/step - loss: 1.1421 - binary_accuracy: 0.6151\n",
      "Epoch 15/30\n",
      "84376/84376 [==============================] - 9s 105us/step - loss: 1.1412 - binary_accuracy: 0.6165\n",
      "Epoch 16/30\n",
      "84376/84376 [==============================] - 9s 104us/step - loss: 1.1404 - binary_accuracy: 0.6186\n",
      "Epoch 17/30\n",
      "84376/84376 [==============================] - 9s 104us/step - loss: 1.1391 - binary_accuracy: 0.6189\n",
      "Epoch 18/30\n",
      "84376/84376 [==============================] - 9s 105us/step - loss: 1.1387 - binary_accuracy: 0.6172\n",
      "Epoch 19/30\n",
      "84376/84376 [==============================] - 9s 105us/step - loss: 1.1377 - binary_accuracy: 0.6162\n",
      "Epoch 20/30\n",
      "84376/84376 [==============================] - 9s 105us/step - loss: 1.1371 - binary_accuracy: 0.6193\n",
      "Epoch 21/30\n",
      "84376/84376 [==============================] - 9s 104us/step - loss: 1.1360 - binary_accuracy: 0.6198\n",
      "Epoch 22/30\n",
      "84376/84376 [==============================] - 9s 106us/step - loss: 1.1351 - binary_accuracy: 0.6188\n",
      "Epoch 23/30\n",
      "84376/84376 [==============================] - 9s 106us/step - loss: 1.1344 - binary_accuracy: 0.6230\n",
      "Epoch 24/30\n",
      "84376/84376 [==============================] - 9s 104us/step - loss: 1.1339 - binary_accuracy: 0.6207\n",
      "Epoch 25/30\n",
      "84376/84376 [==============================] - 9s 105us/step - loss: 1.1336 - binary_accuracy: 0.6216\n",
      "Epoch 26/30\n",
      "84376/84376 [==============================] - 9s 105us/step - loss: 1.1328 - binary_accuracy: 0.6219\n",
      "Epoch 27/30\n",
      "84376/84376 [==============================] - 9s 104us/step - loss: 1.1320 - binary_accuracy: 0.6256\n",
      "Epoch 28/30\n",
      "84376/84376 [==============================] - 9s 105us/step - loss: 1.1319 - binary_accuracy: 0.6213\n",
      "Epoch 29/30\n",
      "84376/84376 [==============================] - 9s 104us/step - loss: 1.1311 - binary_accuracy: 0.6236\n",
      "Epoch 30/30\n",
      "84376/84376 [==============================] - 9s 104us/step - loss: 1.1307 - binary_accuracy: 0.6240\n",
      "Time elapsed (Training): 265.0339 s\n",
      "Accuracy (Training): 0.624396\n",
      "ROCAUC Score (Training): 0.721832\n",
      "PRAUC Score (Training): 0.105445\n",
      "Accuracy (Validation): 0.625409\n",
      "ROCAUC Score (Validation): 0.703784\n",
      "PRAUC Score (Validation): 0.086089\n",
      "Time elapsed (Evaluation): 4.0457 s\n"
     ]
    },
    {
     "data": {
      "image/png": "[encoded data removed]",
      "text/plain": [
       "<Figure size 864x288 with 2 Axes>"
      ]
     },
     "metadata": {},
     "output_type": "display_data"
    }
   ],
   "source": [
    "# Train and evaluate the model with class weights\n",
    "\n",
    "fit_time = keras_utils.train_model(clf, X_train, y_train, n_epochs, batch_size, class_weight)\n",
    "acc_score, rocauc_score, prauc_score, eval_time = keras_utils.evaluate(clf, X_train, y_train, X_valid, y_valid)"
   ]
  },
  {
   "cell_type": "markdown",
   "metadata": {},
   "source": [
    "Now the models look much better. I am able to get an ROCAUC of 0.678 with normalized data and 0.707 with added class weights. The results are comparable with those in Part 3: Logistic Regression with Regularization and Feature Expansion. This is another implementatino of Logistic Regression, after all."
   ]
  },
  {
   "cell_type": "markdown",
   "metadata": {},
   "source": [
    "## Optimizers\n",
    "\n",
    "Keras provides a few different optimizers other than SGD (stochastic gradient descent). I will try them and observe the convergence and performance of the models, using the same learning rate __lr__."
   ]
  },
  {
   "cell_type": "code",
   "execution_count": 12,
   "metadata": {},
   "outputs": [
    {
     "name": "stdout",
     "output_type": "stream",
     "text": [
      "Epoch 1/30\n",
      "84376/84376 [==============================] - 9s 105us/step - loss: 1.1524 - binary_accuracy: 0.6241\n",
      "Epoch 2/30\n",
      "84376/84376 [==============================] - 9s 107us/step - loss: 1.1459 - binary_accuracy: 0.6307\n",
      "Epoch 3/30\n",
      "84376/84376 [==============================] - 9s 107us/step - loss: 1.1466 - binary_accuracy: 0.6326\n",
      "Epoch 4/30\n",
      "84376/84376 [==============================] - 9s 107us/step - loss: 1.1446 - binary_accuracy: 0.6354\n",
      "Epoch 5/30\n",
      "84376/84376 [==============================] - 9s 107us/step - loss: 1.1456 - binary_accuracy: 0.6343\n",
      "Epoch 6/30\n",
      "84376/84376 [==============================] - 9s 107us/step - loss: 1.1440 - binary_accuracy: 0.6349\n",
      "Epoch 7/30\n",
      "84376/84376 [==============================] - 9s 105us/step - loss: 1.1457 - binary_accuracy: 0.6384\n",
      "Epoch 8/30\n",
      "84376/84376 [==============================] - 9s 105us/step - loss: 1.1456 - binary_accuracy: 0.6373\n",
      "Epoch 9/30\n",
      "84376/84376 [==============================] - 9s 104us/step - loss: 1.1476 - binary_accuracy: 0.6380\n",
      "Epoch 10/30\n",
      "84376/84376 [==============================] - 9s 104us/step - loss: 1.1475 - binary_accuracy: 0.6392\n",
      "Epoch 11/30\n",
      "84376/84376 [==============================] - 9s 105us/step - loss: 1.1507 - binary_accuracy: 0.6374\n",
      "Epoch 12/30\n",
      "84376/84376 [==============================] - 9s 105us/step - loss: 1.1498 - binary_accuracy: 0.6396\n",
      "Epoch 13/30\n",
      "84376/84376 [==============================] - 9s 104us/step - loss: 1.1523 - binary_accuracy: 0.6377\n",
      "Epoch 14/30\n",
      "84376/84376 [==============================] - 9s 105us/step - loss: 1.1522 - binary_accuracy: 0.6389\n",
      "Epoch 15/30\n",
      "84376/84376 [==============================] - 9s 106us/step - loss: 1.1548 - binary_accuracy: 0.6386\n",
      "Epoch 16/30\n",
      "84376/84376 [==============================] - 9s 105us/step - loss: 1.1549 - binary_accuracy: 0.6387\n",
      "Epoch 17/30\n",
      "84376/84376 [==============================] - 9s 105us/step - loss: 1.1577 - binary_accuracy: 0.6407\n",
      "Epoch 18/30\n",
      "84376/84376 [==============================] - 9s 105us/step - loss: 1.1590 - binary_accuracy: 0.6383\n",
      "Epoch 19/30\n",
      "84376/84376 [==============================] - 9s 108us/step - loss: 1.1591 - binary_accuracy: 0.6399\n",
      "Epoch 20/30\n",
      "84376/84376 [==============================] - 9s 105us/step - loss: 1.1616 - binary_accuracy: 0.6379\n",
      "Epoch 21/30\n",
      "84376/84376 [==============================] - 9s 104us/step - loss: 1.1649 - binary_accuracy: 0.6367\n",
      "Epoch 22/30\n",
      "84376/84376 [==============================] - 9s 104us/step - loss: 1.1662 - binary_accuracy: 0.6400\n",
      "Epoch 23/30\n",
      "84376/84376 [==============================] - 9s 104us/step - loss: 1.1666 - binary_accuracy: 0.6362\n",
      "Epoch 24/30\n",
      "84376/84376 [==============================] - 9s 103us/step - loss: 1.1698 - binary_accuracy: 0.6374\n",
      "Epoch 25/30\n",
      "84376/84376 [==============================] - 9s 104us/step - loss: 1.1733 - binary_accuracy: 0.6375\n",
      "Epoch 26/30\n",
      "84376/84376 [==============================] - 9s 104us/step - loss: 1.1736 - binary_accuracy: 0.6370\n",
      "Epoch 27/30\n",
      "84376/84376 [==============================] - 9s 104us/step - loss: 1.1754 - binary_accuracy: 0.6385\n",
      "Epoch 28/30\n",
      "84376/84376 [==============================] - 9s 104us/step - loss: 1.1766 - binary_accuracy: 0.6353\n",
      "Epoch 29/30\n",
      "84376/84376 [==============================] - 9s 104us/step - loss: 1.1770 - binary_accuracy: 0.6370\n",
      "Epoch 30/30\n",
      "84376/84376 [==============================] - 9s 103us/step - loss: 1.1811 - binary_accuracy: 0.6397\n",
      "Time elapsed (Training): 265.9800 s\n",
      "Accuracy (Training): 0.623874\n",
      "ROCAUC Score (Training): 0.716687\n",
      "PRAUC Score (Training): 0.098535\n",
      "Accuracy (Validation): 0.621806\n",
      "ROCAUC Score (Validation): 0.694298\n",
      "PRAUC Score (Validation): 0.079001\n",
      "Time elapsed (Evaluation): 4.0907 s\n"
     ]
    },
    {
     "data": {
      "image/png": "[encoded data removed]",
      "text/plain": [
       "<Figure size 864x288 with 2 Axes>"
      ]
     },
     "metadata": {},
     "output_type": "display_data"
    }
   ],
   "source": [
    "# RMSprop\n",
    "\n",
    "clf.compile(loss='binary_crossentropy',\n",
    "            optimizer=keras.optimizers.RMSprop(lr=0.001),\n",
    "            metrics=['binary_accuracy'])\n",
    "\n",
    "fit_time = keras_utils.train_model(clf, X_train, y_train, n_epochs, batch_size, class_weight)\n",
    "acc_score, rocauc_score, prauc_score, eval_time = keras_utils.evaluate(clf, X_train, y_train, X_valid, y_valid)"
   ]
  },
  {
   "cell_type": "code",
   "execution_count": 13,
   "metadata": {},
   "outputs": [
    {
     "name": "stdout",
     "output_type": "stream",
     "text": [
      "Epoch 1/30\n",
      "84376/84376 [==============================] - 9s 104us/step - loss: 1.1609 - binary_accuracy: 0.6398\n",
      "Epoch 2/30\n",
      "84376/84376 [==============================] - 9s 103us/step - loss: 1.1562 - binary_accuracy: 0.6378\n",
      "Epoch 3/30\n",
      "84376/84376 [==============================] - 9s 104us/step - loss: 1.1550 - binary_accuracy: 0.6398\n",
      "Epoch 4/30\n",
      "84376/84376 [==============================] - 9s 105us/step - loss: 1.1542 - binary_accuracy: 0.6398\n",
      "Epoch 5/30\n",
      "84376/84376 [==============================] - 9s 105us/step - loss: 1.1536 - binary_accuracy: 0.6398\n",
      "Epoch 6/30\n",
      "84376/84376 [==============================] - 9s 104us/step - loss: 1.1531 - binary_accuracy: 0.6396\n",
      "Epoch 7/30\n",
      "84376/84376 [==============================] - 9s 104us/step - loss: 1.1526 - binary_accuracy: 0.6389\n",
      "Epoch 8/30\n",
      "84376/84376 [==============================] - 9s 105us/step - loss: 1.1523 - binary_accuracy: 0.6393\n",
      "Epoch 9/30\n",
      "84376/84376 [==============================] - 9s 109us/step - loss: 1.1519 - binary_accuracy: 0.6393\n",
      "Epoch 10/30\n",
      "84376/84376 [==============================] - 9s 108us/step - loss: 1.1517 - binary_accuracy: 0.6399\n",
      "Epoch 11/30\n",
      "84376/84376 [==============================] - 9s 105us/step - loss: 1.1514 - binary_accuracy: 0.6402\n",
      "Epoch 12/30\n",
      "84376/84376 [==============================] - 9s 104us/step - loss: 1.1511 - binary_accuracy: 0.6400\n",
      "Epoch 13/30\n",
      "84376/84376 [==============================] - 9s 104us/step - loss: 1.1509 - binary_accuracy: 0.6386\n",
      "Epoch 14/30\n",
      "84376/84376 [==============================] - 9s 107us/step - loss: 1.1507 - binary_accuracy: 0.6393\n",
      "Epoch 15/30\n",
      "84376/84376 [==============================] - 9s 111us/step - loss: 1.1504 - binary_accuracy: 0.6393\n",
      "Epoch 16/30\n",
      "84376/84376 [==============================] - 9s 109us/step - loss: 1.1503 - binary_accuracy: 0.6392\n",
      "Epoch 17/30\n",
      "84376/84376 [==============================] - 9s 109us/step - loss: 1.1501 - binary_accuracy: 0.6397\n",
      "Epoch 18/30\n",
      "84376/84376 [==============================] - 9s 109us/step - loss: 1.1499 - binary_accuracy: 0.6399\n",
      "Epoch 19/30\n",
      "84376/84376 [==============================] - 9s 108us/step - loss: 1.1498 - binary_accuracy: 0.6400\n",
      "Epoch 20/30\n",
      "84376/84376 [==============================] - 9s 109us/step - loss: 1.1496 - binary_accuracy: 0.6401\n",
      "Epoch 21/30\n",
      "84376/84376 [==============================] - 9s 109us/step - loss: 1.1494 - binary_accuracy: 0.6398\n",
      "Epoch 22/30\n",
      "84376/84376 [==============================] - 9s 109us/step - loss: 1.1493 - binary_accuracy: 0.6399\n",
      "Epoch 23/30\n",
      "84376/84376 [==============================] - 9s 108us/step - loss: 1.1492 - binary_accuracy: 0.6396\n",
      "Epoch 24/30\n",
      "84376/84376 [==============================] - 9s 109us/step - loss: 1.1491 - binary_accuracy: 0.6400\n",
      "Epoch 25/30\n",
      "84376/84376 [==============================] - 9s 108us/step - loss: 1.1489 - binary_accuracy: 0.6398\n",
      "Epoch 26/30\n",
      "84376/84376 [==============================] - 9s 109us/step - loss: 1.1488 - binary_accuracy: 0.6400\n",
      "Epoch 27/30\n",
      "84376/84376 [==============================] - 9s 109us/step - loss: 1.1487 - binary_accuracy: 0.6394\n",
      "Epoch 28/30\n",
      "84376/84376 [==============================] - 9s 109us/step - loss: 1.1486 - binary_accuracy: 0.6400\n",
      "Epoch 29/30\n",
      "84376/84376 [==============================] - 9s 108us/step - loss: 1.1485 - binary_accuracy: 0.6398\n",
      "Epoch 30/30\n",
      "84376/84376 [==============================] - 9s 109us/step - loss: 1.1484 - binary_accuracy: 0.6401\n",
      "Time elapsed (Training): 271.2790 s\n",
      "Accuracy (Training): 0.639921\n",
      "ROCAUC Score (Training): 0.722519\n",
      "PRAUC Score (Training): 0.102645\n",
      "Accuracy (Validation): 0.624840\n",
      "ROCAUC Score (Validation): 0.699224\n",
      "PRAUC Score (Validation): 0.084835\n",
      "Time elapsed (Evaluation): 4.3534 s\n"
     ]
    },
    {
     "data": {
      "image/png": "[encoded data removed]",
      "text/plain": [
       "<Figure size 864x288 with 2 Axes>"
      ]
     },
     "metadata": {},
     "output_type": "display_data"
    }
   ],
   "source": [
    "# Adagrad\n",
    "\n",
    "clf.compile(loss='binary_crossentropy',\n",
    "            optimizer=keras.optimizers.Adagrad(lr=0.001),\n",
    "            metrics=['binary_accuracy'])\n",
    "\n",
    "fit_time = keras_utils.train_model(clf, X_train, y_train, n_epochs, batch_size, class_weight)\n",
    "acc_score, rocauc_score, prauc_score, eval_time = keras_utils.evaluate(clf, X_train, y_train, X_valid, y_valid)"
   ]
  },
  {
   "cell_type": "code",
   "execution_count": 14,
   "metadata": {},
   "outputs": [
    {
     "name": "stdout",
     "output_type": "stream",
     "text": [
      "Epoch 1/30\n",
      "84376/84376 [==============================] - 9s 111us/step - loss: 1.1480 - binary_accuracy: 0.6401\n",
      "Epoch 2/30\n",
      "84376/84376 [==============================] - 9s 110us/step - loss: 1.1480 - binary_accuracy: 0.6401\n",
      "Epoch 3/30\n",
      "84376/84376 [==============================] - 9s 109us/step - loss: 1.1480 - binary_accuracy: 0.6401\n",
      "Epoch 4/30\n",
      "84376/84376 [==============================] - 9s 109us/step - loss: 1.1480 - binary_accuracy: 0.6403\n",
      "Epoch 5/30\n",
      "84376/84376 [==============================] - 9s 109us/step - loss: 1.1480 - binary_accuracy: 0.6403\n",
      "Epoch 6/30\n",
      "84376/84376 [==============================] - 9s 109us/step - loss: 1.1480 - binary_accuracy: 0.6403\n",
      "Epoch 7/30\n",
      "84376/84376 [==============================] - 9s 109us/step - loss: 1.1480 - binary_accuracy: 0.6403\n",
      "Epoch 8/30\n",
      "84376/84376 [==============================] - 9s 109us/step - loss: 1.1480 - binary_accuracy: 0.6405\n",
      "Epoch 9/30\n",
      "84376/84376 [==============================] - 9s 109us/step - loss: 1.1480 - binary_accuracy: 0.6405\n",
      "Epoch 10/30\n",
      "84376/84376 [==============================] - 9s 109us/step - loss: 1.1480 - binary_accuracy: 0.6405\n",
      "Epoch 11/30\n",
      "84376/84376 [==============================] - 9s 109us/step - loss: 1.1480 - binary_accuracy: 0.6404\n",
      "Epoch 12/30\n",
      "84376/84376 [==============================] - 9s 109us/step - loss: 1.1480 - binary_accuracy: 0.6406\n",
      "Epoch 13/30\n",
      "84376/84376 [==============================] - 9s 111us/step - loss: 1.1480 - binary_accuracy: 0.6406\n",
      "Epoch 14/30\n",
      "84376/84376 [==============================] - 9s 107us/step - loss: 1.1480 - binary_accuracy: 0.6406\n",
      "Epoch 15/30\n",
      "84376/84376 [==============================] - 9s 104us/step - loss: 1.1480 - binary_accuracy: 0.6407\n",
      "Epoch 16/30\n",
      "84376/84376 [==============================] - 9s 104us/step - loss: 1.1480 - binary_accuracy: 0.6406\n",
      "Epoch 17/30\n",
      "84376/84376 [==============================] - 9s 104us/step - loss: 1.1480 - binary_accuracy: 0.6407\n",
      "Epoch 18/30\n",
      "84376/84376 [==============================] - 9s 104us/step - loss: 1.1480 - binary_accuracy: 0.6408\n",
      "Epoch 19/30\n",
      "84376/84376 [==============================] - 9s 104us/step - loss: 1.1480 - binary_accuracy: 0.6407\n",
      "Epoch 20/30\n",
      "84376/84376 [==============================] - 9s 104us/step - loss: 1.1480 - binary_accuracy: 0.6407\n",
      "Epoch 21/30\n",
      "84376/84376 [==============================] - 9s 104us/step - loss: 1.1480 - binary_accuracy: 0.6408\n",
      "Epoch 22/30\n",
      "84376/84376 [==============================] - 9s 103us/step - loss: 1.1480 - binary_accuracy: 0.6408\n",
      "Epoch 23/30\n",
      "84376/84376 [==============================] - 9s 104us/step - loss: 1.1480 - binary_accuracy: 0.6408\n",
      "Epoch 24/30\n",
      "84376/84376 [==============================] - 9s 103us/step - loss: 1.1480 - binary_accuracy: 0.6408\n",
      "Epoch 25/30\n",
      "84376/84376 [==============================] - 9s 103us/step - loss: 1.1480 - binary_accuracy: 0.6409\n",
      "Epoch 26/30\n",
      "84376/84376 [==============================] - 9s 104us/step - loss: 1.1480 - binary_accuracy: 0.6409\n",
      "Epoch 27/30\n",
      "84376/84376 [==============================] - 9s 103us/step - loss: 1.1479 - binary_accuracy: 0.6409\n",
      "Epoch 28/30\n",
      "84376/84376 [==============================] - 9s 103us/step - loss: 1.1479 - binary_accuracy: 0.6410\n",
      "Epoch 29/30\n",
      "84376/84376 [==============================] - 9s 104us/step - loss: 1.1479 - binary_accuracy: 0.6410\n",
      "Epoch 30/30\n",
      "84376/84376 [==============================] - 9s 104us/step - loss: 1.1479 - binary_accuracy: 0.6410\n",
      "Time elapsed (Training): 269.0393 s\n",
      "Accuracy (Training): 0.640964\n",
      "ROCAUC Score (Training): 0.722631\n",
      "PRAUC Score (Training): 0.102826\n",
      "Accuracy (Validation): 0.625883\n",
      "ROCAUC Score (Validation): 0.699388\n",
      "PRAUC Score (Validation): 0.084937\n",
      "Time elapsed (Evaluation): 4.1399 s\n"
     ]
    },
    {
     "data": {
      "image/png": "[encoded data removed]",
      "text/plain": [
       "<Figure size 864x288 with 2 Axes>"
      ]
     },
     "metadata": {},
     "output_type": "display_data"
    }
   ],
   "source": [
    "# Adadelta\n",
    "\n",
    "clf.compile(loss='binary_crossentropy',\n",
    "            optimizer=keras.optimizers.Adadelta(lr=0.001),\n",
    "            metrics=['binary_accuracy'])\n",
    "\n",
    "fit_time = keras_utils.train_model(clf, X_train, y_train, n_epochs, batch_size, class_weight)\n",
    "acc_score, rocauc_score, prauc_score, eval_time = keras_utils.evaluate(clf, X_train, y_train, X_valid, y_valid)"
   ]
  },
  {
   "cell_type": "code",
   "execution_count": 15,
   "metadata": {},
   "outputs": [
    {
     "name": "stdout",
     "output_type": "stream",
     "text": [
      "Epoch 1/30\n",
      "84376/84376 [==============================] - 9s 105us/step - loss: 1.1705 - binary_accuracy: 0.6357\n",
      "Epoch 2/30\n",
      "84376/84376 [==============================] - 9s 104us/step - loss: 1.1633 - binary_accuracy: 0.6371\n",
      "Epoch 3/30\n",
      "84376/84376 [==============================] - 9s 103us/step - loss: 1.1574 - binary_accuracy: 0.6355\n",
      "Epoch 4/30\n",
      "84376/84376 [==============================] - 9s 103us/step - loss: 1.1524 - binary_accuracy: 0.6359\n",
      "Epoch 5/30\n",
      "84376/84376 [==============================] - 9s 104us/step - loss: 1.1500 - binary_accuracy: 0.6374\n",
      "Epoch 6/30\n",
      "84376/84376 [==============================] - 9s 103us/step - loss: 1.1445 - binary_accuracy: 0.6404\n",
      "Epoch 7/30\n",
      "84376/84376 [==============================] - 9s 104us/step - loss: 1.1411 - binary_accuracy: 0.6359\n",
      "Epoch 8/30\n",
      "84376/84376 [==============================] - 9s 104us/step - loss: 1.1408 - binary_accuracy: 0.6405\n",
      "Epoch 9/30\n",
      "84376/84376 [==============================] - 9s 103us/step - loss: 1.1400 - binary_accuracy: 0.6376\n",
      "Epoch 10/30\n",
      "84376/84376 [==============================] - 9s 104us/step - loss: 1.1359 - binary_accuracy: 0.6421\n",
      "Epoch 11/30\n",
      "84376/84376 [==============================] - 9s 104us/step - loss: 1.1376 - binary_accuracy: 0.6399\n",
      "Epoch 12/30\n",
      "84376/84376 [==============================] - 9s 103us/step - loss: 1.1347 - binary_accuracy: 0.6421\n",
      "Epoch 13/30\n",
      "84376/84376 [==============================] - 9s 104us/step - loss: 1.1341 - binary_accuracy: 0.6404\n",
      "Epoch 14/30\n",
      "84376/84376 [==============================] - 9s 104us/step - loss: 1.1316 - binary_accuracy: 0.6431\n",
      "Epoch 15/30\n",
      "84376/84376 [==============================] - 9s 103us/step - loss: 1.1313 - binary_accuracy: 0.6423\n",
      "Epoch 16/30\n",
      "84376/84376 [==============================] - 9s 104us/step - loss: 1.1300 - binary_accuracy: 0.6436\n",
      "Epoch 17/30\n",
      "84376/84376 [==============================] - 9s 104us/step - loss: 1.1311 - binary_accuracy: 0.6418\n",
      "Epoch 18/30\n",
      "84376/84376 [==============================] - 9s 104us/step - loss: 1.1279 - binary_accuracy: 0.6416\n",
      "Epoch 19/30\n",
      "84376/84376 [==============================] - 9s 104us/step - loss: 1.1273 - binary_accuracy: 0.6440\n",
      "Epoch 20/30\n",
      "84376/84376 [==============================] - 9s 104us/step - loss: 1.1294 - binary_accuracy: 0.6433\n",
      "Epoch 21/30\n",
      "84376/84376 [==============================] - 9s 104us/step - loss: 1.1273 - binary_accuracy: 0.6418\n",
      "Epoch 22/30\n",
      "84376/84376 [==============================] - 9s 104us/step - loss: 1.1247 - binary_accuracy: 0.6444\n",
      "Epoch 23/30\n",
      "84376/84376 [==============================] - 9s 103us/step - loss: 1.1236 - binary_accuracy: 0.6447\n",
      "Epoch 24/30\n",
      "84376/84376 [==============================] - 9s 104us/step - loss: 1.1261 - binary_accuracy: 0.6413\n",
      "Epoch 25/30\n",
      "84376/84376 [==============================] - 9s 103us/step - loss: 1.1251 - binary_accuracy: 0.6434\n",
      "Epoch 26/30\n",
      "84376/84376 [==============================] - 9s 103us/step - loss: 1.1252 - binary_accuracy: 0.6453\n",
      "Epoch 27/30\n",
      "84376/84376 [==============================] - 9s 103us/step - loss: 1.1230 - binary_accuracy: 0.6419\n",
      "Epoch 28/30\n",
      "84376/84376 [==============================] - 9s 103us/step - loss: 1.1239 - binary_accuracy: 0.6435\n",
      "Epoch 29/30\n",
      "84376/84376 [==============================] - 9s 104us/step - loss: 1.1210 - binary_accuracy: 0.6460\n",
      "Epoch 30/30\n",
      "84376/84376 [==============================] - 9s 104us/step - loss: 1.1239 - binary_accuracy: 0.6455\n",
      "Time elapsed (Training): 262.7640 s\n",
      "Accuracy (Training): 0.641201\n",
      "ROCAUC Score (Training): 0.734158\n",
      "PRAUC Score (Training): 0.110033\n",
      "Accuracy (Validation): 0.635269\n",
      "ROCAUC Score (Validation): 0.703805\n",
      "PRAUC Score (Validation): 0.089814\n",
      "Time elapsed (Evaluation): 4.1547 s\n"
     ]
    },
    {
     "data": {
      "image/png": "[encoded data removed]",
      "text/plain": [
       "<Figure size 864x288 with 2 Axes>"
      ]
     },
     "metadata": {},
     "output_type": "display_data"
    }
   ],
   "source": [
    "# Adam\n",
    "\n",
    "clf.compile(loss='binary_crossentropy',\n",
    "            optimizer=keras.optimizers.Adam(lr=0.001),\n",
    "            metrics=['binary_accuracy'])\n",
    "\n",
    "fit_time = keras_utils.train_model(clf, X_train, y_train, n_epochs, batch_size, class_weight)\n",
    "acc_score, rocauc_score, prauc_score, eval_time = keras_utils.evaluate(clf, X_train, y_train, X_valid, y_valid)"
   ]
  },
  {
   "cell_type": "code",
   "execution_count": 16,
   "metadata": {},
   "outputs": [
    {
     "name": "stdout",
     "output_type": "stream",
     "text": [
      "Epoch 1/30\n",
      "84376/84376 [==============================] - 9s 106us/step - loss: 1.1103 - binary_accuracy: 0.6516\n",
      "Epoch 2/30\n",
      "84376/84376 [==============================] - 9s 104us/step - loss: 1.1075 - binary_accuracy: 0.6511\n",
      "Epoch 3/30\n",
      "84376/84376 [==============================] - 9s 103us/step - loss: 1.1071 - binary_accuracy: 0.6456\n",
      "Epoch 4/30\n",
      "84376/84376 [==============================] - 9s 104us/step - loss: 1.1074 - binary_accuracy: 0.6499\n",
      "Epoch 5/30\n",
      "84376/84376 [==============================] - 9s 103us/step - loss: 1.1082 - binary_accuracy: 0.6482\n",
      "Epoch 6/30\n",
      "84376/84376 [==============================] - 9s 104us/step - loss: 1.1080 - binary_accuracy: 0.6501\n",
      "Epoch 7/30\n",
      "84376/84376 [==============================] - 9s 104us/step - loss: 1.1063 - binary_accuracy: 0.6473\n",
      "Epoch 8/30\n",
      "84376/84376 [==============================] - 9s 103us/step - loss: 1.1072 - binary_accuracy: 0.6495\n",
      "Epoch 9/30\n",
      "84376/84376 [==============================] - 9s 103us/step - loss: 1.1071 - binary_accuracy: 0.6481\n",
      "Epoch 10/30\n",
      "84376/84376 [==============================] - 9s 104us/step - loss: 1.1070 - binary_accuracy: 0.6485\n",
      "Epoch 11/30\n",
      "84376/84376 [==============================] - 9s 103us/step - loss: 1.1072 - binary_accuracy: 0.6526\n",
      "Epoch 12/30\n",
      "84376/84376 [==============================] - 9s 103us/step - loss: 1.1064 - binary_accuracy: 0.6470\n",
      "Epoch 13/30\n",
      "84376/84376 [==============================] - 9s 104us/step - loss: 1.1067 - binary_accuracy: 0.6487\n",
      "Epoch 14/30\n",
      "84376/84376 [==============================] - 9s 103us/step - loss: 1.1057 - binary_accuracy: 0.6456\n",
      "Epoch 15/30\n",
      "84376/84376 [==============================] - 9s 104us/step - loss: 1.1065 - binary_accuracy: 0.6519\n",
      "Epoch 16/30\n",
      "84376/84376 [==============================] - 9s 103us/step - loss: 1.1063 - binary_accuracy: 0.6512\n",
      "Epoch 17/30\n",
      "84376/84376 [==============================] - 9s 104us/step - loss: 1.1072 - binary_accuracy: 0.6443\n",
      "Epoch 18/30\n",
      "84376/84376 [==============================] - 9s 104us/step - loss: 1.1060 - binary_accuracy: 0.6507\n",
      "Epoch 19/30\n",
      "84376/84376 [==============================] - 9s 103us/step - loss: 1.1059 - binary_accuracy: 0.6473\n",
      "Epoch 20/30\n",
      "84376/84376 [==============================] - 9s 105us/step - loss: 1.1065 - binary_accuracy: 0.6477\n",
      "Epoch 21/30\n",
      "84376/84376 [==============================] - 9s 104us/step - loss: 1.1057 - binary_accuracy: 0.6497\n",
      "Epoch 22/30\n",
      "84376/84376 [==============================] - 9s 103us/step - loss: 1.1060 - binary_accuracy: 0.6479\n",
      "Epoch 23/30\n",
      "84376/84376 [==============================] - 9s 104us/step - loss: 1.1062 - binary_accuracy: 0.6472\n",
      "Epoch 24/30\n",
      "84376/84376 [==============================] - 9s 103us/step - loss: 1.1064 - binary_accuracy: 0.6492\n",
      "Epoch 25/30\n",
      "84376/84376 [==============================] - 9s 103us/step - loss: 1.1061 - binary_accuracy: 0.6501\n",
      "Epoch 26/30\n",
      "84376/84376 [==============================] - 9s 103us/step - loss: 1.1058 - binary_accuracy: 0.6476\n",
      "Epoch 27/30\n",
      "84376/84376 [==============================] - 9s 103us/step - loss: 1.1055 - binary_accuracy: 0.6477\n",
      "Epoch 28/30\n",
      "84376/84376 [==============================] - 9s 104us/step - loss: 1.1055 - binary_accuracy: 0.6503\n",
      "Epoch 29/30\n",
      "84376/84376 [==============================] - 9s 103us/step - loss: 1.1058 - binary_accuracy: 0.6493\n",
      "Epoch 30/30\n",
      "84376/84376 [==============================] - 9s 104us/step - loss: 1.1056 - binary_accuracy: 0.6469\n",
      "Time elapsed (Training): 262.5172 s\n",
      "Accuracy (Training): 0.659643\n",
      "ROCAUC Score (Training): 0.740783\n",
      "PRAUC Score (Training): 0.113721\n",
      "Accuracy (Validation): 0.647926\n",
      "ROCAUC Score (Validation): 0.708591\n",
      "PRAUC Score (Validation): 0.092628\n",
      "Time elapsed (Evaluation): 4.1468 s\n"
     ]
    },
    {
     "data": {
      "image/png": "[encoded data removed]",
      "text/plain": [
       "<Figure size 864x288 with 2 Axes>"
      ]
     },
     "metadata": {},
     "output_type": "display_data"
    }
   ],
   "source": [
    "# Adamax\n",
    "\n",
    "clf.compile(loss='binary_crossentropy',\n",
    "            optimizer=keras.optimizers.Adamax(lr=0.001),\n",
    "            metrics=['binary_accuracy'])\n",
    "\n",
    "fit_time = keras_utils.train_model(clf, X_train, y_train, n_epochs, batch_size, class_weight)\n",
    "acc_score, rocauc_score, prauc_score, eval_time = keras_utils.evaluate(clf, X_train, y_train, X_valid, y_valid)"
   ]
  },
  {
   "cell_type": "markdown",
   "metadata": {},
   "source": [
    "All of the optimizers do pretty well, with the Adam and Adamax (a variantn of Adam) being the best at ROCAUC = 0.704 and 0.709, respectively."
   ]
  },
  {
   "cell_type": "code",
   "execution_count": null,
   "metadata": {},
   "outputs": [],
   "source": []
  }
 ],
 "metadata": {
  "kernelspec": {
   "display_name": "Python 3",
   "language": "python",
   "name": "python3"
  },
  "language_info": {
   "codemirror_mode": {
    "name": "ipython",
    "version": 3
   },
   "file_extension": ".py",
   "mimetype": "text/x-python",
   "name": "python",
   "nbconvert_exporter": "python",
   "pygments_lexer": "ipython3",
   "version": "3.6.5"
  }
 },
 "nbformat": 4,
 "nbformat_minor": 2
}
